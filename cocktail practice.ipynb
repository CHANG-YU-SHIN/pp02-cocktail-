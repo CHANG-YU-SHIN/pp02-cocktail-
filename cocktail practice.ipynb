{
 "cells": [
  {
   "cell_type": "code",
   "execution_count": 2,
   "metadata": {},
   "outputs": [
    {
     "name": "stdout",
     "output_type": "stream",
     "text": [
      "含有伏特加(Vodka)的酒:\n",
      "Blood Mary(血腥瑪麗)\n",
      "Cosmopolitan(柯夢波丹)\n",
      "Long Island Iced Tea(長島冰茶)\n",
      "含有Lemon Juice(檸檬汁)的酒:\n",
      "Blue Hawaiian(藍色夏威夷佬)\n",
      "New Yorker(紐約客)\n",
      "Cosmopolitan(柯夢波丹)\n",
      "Long Island Iced Tea(長島冰茶)\n",
      "含有Rum(蘭姆酒)的酒:\n",
      "Blue Hawaiian(藍色夏威夷佬)\n",
      "Ginger Mojito(薑味莫西多)\n",
      "Long Island Iced Tea(長島冰茶)\n",
      "含有Rum(蘭姆酒)但是沒有ginger(薑)的酒:\n",
      "Blue Hawaiian(藍色夏威夷佬)\n",
      "Long Island Iced Tea(長島冰茶)\n"
     ]
    }
   ],
   "source": [
    "cocktail ={\n",
    "    'Blue Hawaiian(藍色夏威夷佬)':{'Rum(蘭姆酒)','Sweet Wine(甜酒)','Coconut Cream(椰奶)','Pineapple Juice(鳳梨汁)','Lemon Juice(檸檬汁)'},\n",
    "    'Ginger Mojito(薑味莫西多)':{'Rum(蘭姆酒)','Ginger(薑)','Mint Leaves(薄荷葉)','Lime Juice(萊姆汁)','Ginger Soda(薑汁汽水)'},\n",
    "    'New Yorker(紐約客)':{'Whiskey(威士忌)','Red Wine(紅酒)','Sugar Syrup(糖水)','Lemon Juice(檸檬汁)'},\n",
    "    'Blood Mary(血腥瑪麗)':{'Vodka(伏特加)','Tomato Juice(番茄汁)','Tabasco(酸辣醬)','Little Salt(少量鹽)'},\n",
    "    'Martini(馬丁尼)':{'Gin(琴酒)','Vermouth (苦艾酒)'},\n",
    "    'Cosmopolitan(柯夢波丹)':{'Vodka(伏特加)','Orange Liqueur(橙酒)','Lemon Juice(檸檬汁)','Cranberry Juice(蔓越莓汁)'},\n",
    "    'Long Island Iced Tea(長島冰茶)':{'Rum(蘭姆酒)','Vodka(伏特加)','Gin(琴酒)','Tequila(龍舌蘭)','White Curacao(白柑香酒)','Lemon Juice(檸檬汁)','Coke(可樂)'}\n",
    "}\n",
    "\n",
    "#列出含有Vodka的酒\n",
    "print(\"含有伏特加(Vodka)的酒:\")\n",
    "for name, formulas in cocktail.items():\n",
    "    if 'Vodka(伏特加)' in formulas:\n",
    "        print(name)\n",
    "#列出含有lemon juice的酒\n",
    "print(\"含有Lemon Juice(檸檬汁)的酒:\")\n",
    "for name, formulas in cocktail.items():\n",
    "    if 'Lemon Juice(檸檬汁)' in formulas:\n",
    "        print(name)\n",
    "#列出含有Rum的酒\n",
    "print(\"含有Rum(蘭姆酒)的酒:\")\n",
    "for name, formulas in cocktail.items():\n",
    "    if 'Rum(蘭姆酒)' in formulas:\n",
    "        print(name)\n",
    "#列出含有Rum但是沒有ginger的酒\n",
    "print(\"含有Rum(蘭姆酒)但是沒有ginger(薑)的酒:\")\n",
    "for name, formulas in cocktail.items():\n",
    "    if 'Rum(蘭姆酒)' in formulas and not ('Ginger(薑)' in formulas):\n",
    "        print(name)        \n"
   ]
  },
  {
   "cell_type": "code",
   "execution_count": null,
   "metadata": {},
   "outputs": [],
   "source": []
  }
 ],
 "metadata": {
  "kernelspec": {
   "display_name": "Python 3",
   "language": "python",
   "name": "python3"
  },
  "language_info": {
   "codemirror_mode": {
    "name": "ipython",
    "version": 3
   },
   "file_extension": ".py",
   "mimetype": "text/x-python",
   "name": "python",
   "nbconvert_exporter": "python",
   "pygments_lexer": "ipython3",
   "version": "3.7.0"
  }
 },
 "nbformat": 4,
 "nbformat_minor": 2
}
